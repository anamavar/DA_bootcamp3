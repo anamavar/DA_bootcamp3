{
 "cells": [
  {
   "cell_type": "markdown",
   "id": "c8e6946d",
   "metadata": {},
   "source": [
    "# Retail  Solutions\n",
    "\n",
    "This notebook contains Python solutions for 30 analytical scenarios using the **retail_enhanced** database. Each scenario retrieves data via SQL, processes it using pandas, and visualizes the results using Matplotlib or Plotly. Ensure the `retail_enhanced.db` database is available in the working directory before executing the cells.\n"
   ]
  },
  {
   "cell_type": "code",
   "execution_count": null,
   "id": "6c819cbb",
   "metadata": {},
   "outputs": [],
   "source": [
    "\n",
    "import sqlite3\n",
    "import pandas as pd\n",
    "import numpy as np\n",
    "import matplotlib.pyplot as plt\n",
    "import plotly.express as px\n",
    "\n",
    "# Connect to the database\n",
    "conn = sqlite3.connect('retail_enhanced.db')\n"
   ]
  },
  {
   "cell_type": "markdown",
   "id": "6a0070b0",
   "metadata": {},
   "source": [
    "### 1. Customer Age Distribution\n",
    "Retrieve all customer ages from the `customers` table and plot a histogram showing the distribution of customer ages using Matplotlib. This helps understand the age demographics of customers."
   ]
  },
  {
   "cell_type": "code",
   "execution_count": null,
   "id": "1f031e09",
   "metadata": {},
   "outputs": [],
   "source": [
    "\n",
    "# 1. Customer Age Distribution\n",
    "query = 'SELECT age FROM customers'\n",
    "df = pd.read_sql_query(query, conn)\n",
    "plt.figure(figsize=(6,4))\n",
    "plt.hist(df['age'], bins=10, color='skyblue', edgecolor='black')\n",
    "plt.xlabel('Age')\n",
    "plt.ylabel('Number of Customers')\n",
    "plt.title('Distribution of Customer Ages')\n",
    "plt.tight_layout()\n",
    "plt.show()\n"
   ]
  },
  {
   "cell_type": "markdown",
   "id": "bf5f2317",
   "metadata": {},
   "source": [
    "### 2. Gender Distribution\n",
    "Query the number of customers by gender from the `customers` table and visualize the results using a pie or bar chart (use Plotly for interactivity) to see the gender ratio among customers."
   ]
  },
  {
   "cell_type": "code",
   "execution_count": null,
   "id": "77b0e674",
   "metadata": {},
   "outputs": [],
   "source": [
    "\n",
    "# 2. Gender Distribution\n",
    "query = 'SELECT gender, COUNT(*) AS count FROM customers GROUP BY gender'\n",
    "df = pd.read_sql_query(query, conn)\n",
    "fig = px.pie(df, values='count', names='gender', title='Gender Distribution of Customers')\n",
    "fig.show()\n"
   ]
  },
  {
   "cell_type": "markdown",
   "id": "6a8bf123",
   "metadata": {},
   "source": [
    "### 3. Sales by Region\n",
    "Join `orders` with `customers` to calculate the total sales (sum of `total_price`) for each region. Plot a bar chart to compare sales across different regions."
   ]
  },
  {
   "cell_type": "code",
   "execution_count": null,
   "id": "b5723719",
   "metadata": {},
   "outputs": [],
   "source": [
    "\n",
    "# 3. Sales by Region\n",
    "query = 'SELECT c.region, SUM(o.total_price) AS total_sales FROM orders o JOIN customers c ON c.id = o.customer_id GROUP BY c.region'\n",
    "df = pd.read_sql_query(query, conn)\n",
    "plt.figure(figsize=(7,4))\n",
    "plt.bar(df['region'], df['total_sales'], color='teal')\n",
    "plt.xlabel('Region')\n",
    "plt.ylabel('Total Sales')\n",
    "plt.title('Sales by Region')\n",
    "plt.xticks(rotation=45)\n",
    "plt.tight_layout()\n",
    "plt.show()\n"
   ]
  },
  {
   "cell_type": "markdown",
   "id": "674d6765",
   "metadata": {},
   "source": [
    "### 4. Sales Trend Over Time\n",
    "Aggregate total order value by month from the `orders` table (summing `total_price`) and plot a line chart to visualize how sales have changed over time."
   ]
  },
  {
   "cell_type": "code",
   "execution_count": null,
   "id": "b68bf161",
   "metadata": {},
   "outputs": [],
   "source": [
    "\n",
    "# 4. Sales Trend Over Time\n",
    "query = \"SELECT strftime('%Y-%m', order_date) AS month, SUM(total_price) AS total_sales FROM orders GROUP BY month ORDER BY month\"\n",
    "df = pd.read_sql_query(query, conn)\n",
    "plt.figure(figsize=(8,4))\n",
    "plt.plot(df['month'], df['total_sales'], marker='o')\n",
    "plt.xlabel('Month')\n",
    "plt.ylabel('Total Sales')\n",
    "plt.title('Sales Trend Over Time')\n",
    "plt.xticks(rotation=45)\n",
    "plt.tight_layout()\n",
    "plt.show()\n"
   ]
  },
  {
   "cell_type": "markdown",
   "id": "524079a7",
   "metadata": {},
   "source": [
    "### 5. Top 10 Customers by Total Spending\n",
    "Compute the total amount spent by each customer by grouping `orders` on `customer_id`. Identify the top 10 customers with the highest total spending and display the results with a bar chart."
   ]
  },
  {
   "cell_type": "code",
   "execution_count": null,
   "id": "cd9237c1",
   "metadata": {},
   "outputs": [],
   "source": [
    "\n",
    "# 5. Top 10 Customers by Total Spending\n",
    "query = 'SELECT c.id AS customer_id, c.name, SUM(o.total_price) AS total_spent FROM customers c JOIN orders o ON o.customer_id = c.id GROUP BY c.id, c.name ORDER BY total_spent DESC LIMIT 10'\n",
    "df = pd.read_sql_query(query, conn)\n",
    "plt.figure(figsize=(8,4))\n",
    "plt.barh(df['name'], df['total_spent'], color='purple')\n",
    "plt.xlabel('Total Spent')\n",
    "plt.ylabel('Customer')\n",
    "plt.title('Top 10 Customers by Total Spending')\n",
    "plt.gca().invert_yaxis()\n",
    "plt.tight_layout()\n",
    "plt.show()\n"
   ]
  },
  {
   "cell_type": "markdown",
   "id": "220468a1",
   "metadata": {},
   "source": [
    "### 6. Average Order Value by Region\n",
    "Join `orders` with `customers` and calculate the average order value (`total_price`) for each region. Plot a bar chart to compare average order values across regions."
   ]
  },
  {
   "cell_type": "code",
   "execution_count": null,
   "id": "de78aa57",
   "metadata": {},
   "outputs": [],
   "source": [
    "\n",
    "# 6. Average Order Value by Region\n",
    "query = 'SELECT c.region, AVG(o.total_price) AS avg_order_value FROM orders o JOIN customers c ON c.id = o.customer_id GROUP BY c.region'\n",
    "df = pd.read_sql_query(query, conn)\n",
    "plt.figure(figsize=(7,4))\n",
    "plt.bar(df['region'], df['avg_order_value'], color='orange')\n",
    "plt.xlabel('Region')\n",
    "plt.ylabel('Average Order Value')\n",
    "plt.title('Average Order Value by Region')\n",
    "plt.xticks(rotation=45)\n",
    "plt.tight_layout()\n",
    "plt.show()\n"
   ]
  },
  {
   "cell_type": "markdown",
   "id": "f4bbdf1f",
   "metadata": {},
   "source": [
    "### 7. Product Price Distribution\n",
    "Retrieve product prices from the `products` table and plot a histogram showing the distribution of product prices."
   ]
  },
  {
   "cell_type": "code",
   "execution_count": null,
   "id": "eea74d4a",
   "metadata": {},
   "outputs": [],
   "source": [
    "\n",
    "# 7. Product Price Distribution\n",
    "query = 'SELECT price FROM products'\n",
    "df = pd.read_sql_query(query, conn)\n",
    "plt.figure(figsize=(6,4))\n",
    "plt.hist(df['price'], bins=10, color='green', edgecolor='black')\n",
    "plt.xlabel('Price')\n",
    "plt.ylabel('Number of Products')\n",
    "plt.title('Distribution of Product Prices')\n",
    "plt.tight_layout()\n",
    "plt.show()\n"
   ]
  },
  {
   "cell_type": "markdown",
   "id": "01c95d41",
   "metadata": {},
   "source": [
    "### 8. Average Product Price by Category\n",
    "Join `products` with `categories` to calculate the average product price for each category. Visualize the results using a bar chart."
   ]
  },
  {
   "cell_type": "code",
   "execution_count": null,
   "id": "d60e6e45",
   "metadata": {},
   "outputs": [],
   "source": [
    "\n",
    "# 8. Average Product Price by Category\n",
    "query = 'SELECT cat.name AS category, AVG(p.price) AS avg_price FROM products p JOIN categories cat ON cat.id = p.category_id GROUP BY cat.id, cat.name'\n",
    "df = pd.read_sql_query(query, conn)\n",
    "plt.figure(figsize=(8,4))\n",
    "plt.bar(df['category'], df['avg_price'], color='magenta')\n",
    "plt.xlabel('Category')\n",
    "plt.ylabel('Average Price')\n",
    "plt.title('Average Product Price by Category')\n",
    "plt.xticks(rotation=45)\n",
    "plt.tight_layout()\n",
    "plt.show()\n"
   ]
  },
  {
   "cell_type": "markdown",
   "id": "bff84f1b",
   "metadata": {},
   "source": [
    "### 9. Sales by Category\n",
    "Join `orders` with `products` and `categories` to compute total sales per category. Create a pie chart (using Plotly) to show each category’s share of total sales."
   ]
  },
  {
   "cell_type": "code",
   "execution_count": null,
   "id": "fd05b4a7",
   "metadata": {},
   "outputs": [],
   "source": [
    "\n",
    "# 9. Sales by Category\n",
    "query = 'SELECT cat.name AS category, SUM(o.total_price) AS total_sales FROM orders o JOIN products p ON p.id = o.product_id JOIN categories cat ON cat.id = p.category_id GROUP BY cat.id, cat.name'\n",
    "df = pd.read_sql_query(query, conn)\n",
    "fig = px.pie(df, values='total_sales', names='category', title='Sales by Category')\n",
    "fig.show()\n"
   ]
  },
  {
   "cell_type": "markdown",
   "id": "bbc1cf5f",
   "metadata": {},
   "source": [
    "### 10. Monthly Order Volume\n",
    "Count the number of orders for each month using the `orders` table. Plot a line chart to see trends in order volume over time."
   ]
  },
  {
   "cell_type": "code",
   "execution_count": null,
   "id": "e30af5f7",
   "metadata": {},
   "outputs": [],
   "source": [
    "\n",
    "# 10. Monthly Order Volume\n",
    "query = \"SELECT strftime('%Y-%m', order_date) AS month, COUNT(*) AS order_count FROM orders GROUP BY month ORDER BY month\"\n",
    "df = pd.read_sql_query(query, conn)\n",
    "plt.figure(figsize=(8,4))\n",
    "plt.plot(df['month'], df['order_count'], marker='o')\n",
    "plt.xlabel('Month')\n",
    "plt.ylabel('Number of Orders')\n",
    "plt.title('Monthly Order Volume')\n",
    "plt.xticks(rotation=45)\n",
    "plt.tight_layout()\n",
    "plt.show()\n"
   ]
  },
  {
   "cell_type": "markdown",
   "id": "9da885e0",
   "metadata": {},
   "source": [
    "### 11. Price vs Quantity Ordered\n",
    "Join `orders` with `products` to plot a scatter chart comparing product price (`price` from `products`) against quantity ordered (`quantity` from `orders`). Compute and print the correlation between price and quantity."
   ]
  },
  {
   "cell_type": "code",
   "execution_count": null,
   "id": "eb80452a",
   "metadata": {},
   "outputs": [],
   "source": [
    "\n",
    "# 11. Price vs Quantity Ordered\n",
    "query = 'SELECT p.price, o.quantity FROM orders o JOIN products p ON p.id = o.product_id'\n",
    "df = pd.read_sql_query(query, conn)\n",
    "corr = df['price'].corr(df['quantity'])\n",
    "print('Correlation between price and quantity:', corr)\n",
    "plt.figure(figsize=(6,4))\n",
    "plt.scatter(df['price'], df['quantity'], alpha=0.6)\n",
    "plt.xlabel('Product Price')\n",
    "plt.ylabel('Quantity Ordered')\n",
    "plt.title('Price vs Quantity Ordered')\n",
    "plt.tight_layout()\n",
    "plt.show()\n"
   ]
  },
  {
   "cell_type": "markdown",
   "id": "2049b9f5",
   "metadata": {},
   "source": [
    "### 12. Employee Salary Distribution\n",
    "Retrieve salaries from the `employees` table and plot a histogram showing the distribution of employee salaries."
   ]
  },
  {
   "cell_type": "code",
   "execution_count": null,
   "id": "eafda391",
   "metadata": {},
   "outputs": [],
   "source": [
    "\n",
    "# 12. Employee Salary Distribution\n",
    "query = 'SELECT salary FROM employees'\n",
    "df = pd.read_sql_query(query, conn)\n",
    "plt.figure(figsize=(6,4))\n",
    "plt.hist(df['salary'], bins=10, color='steelblue', edgecolor='black')\n",
    "plt.xlabel('Salary')\n",
    "plt.ylabel('Number of Employees')\n",
    "plt.title('Distribution of Employee Salaries')\n",
    "plt.tight_layout()\n",
    "plt.show()\n"
   ]
  },
  {
   "cell_type": "markdown",
   "id": "7a2f821e",
   "metadata": {},
   "source": [
    "### 13. Average Salary by Department\n",
    "Join `employees` with `departments` to compute the average salary for each department. Visualize the results using a bar chart."
   ]
  },
  {
   "cell_type": "code",
   "execution_count": null,
   "id": "e668dd43",
   "metadata": {},
   "outputs": [],
   "source": [
    "\n",
    "# 13. Average Salary by Department\n",
    "query = 'SELECT dept.name AS department, AVG(e.salary) AS avg_salary FROM employees e JOIN departments dept ON dept.id = e.department_id GROUP BY dept.id, dept.name'\n",
    "df = pd.read_sql_query(query, conn)\n",
    "plt.figure(figsize=(8,4))\n",
    "plt.bar(df['department'], df['avg_salary'], color='coral')\n",
    "plt.xlabel('Department')\n",
    "plt.ylabel('Average Salary')\n",
    "plt.title('Average Salary by Department')\n",
    "plt.xticks(rotation=45)\n",
    "plt.tight_layout()\n",
    "plt.show()\n"
   ]
  },
  {
   "cell_type": "markdown",
   "id": "d2c410c7",
   "metadata": {},
   "source": [
    "### 14. Bonus vs Salary Relationship\n",
    "Using the `employees` table, create a scatter plot comparing employee salary and bonus to see if higher salaries correlate with higher bonuses. Compute the correlation between salary and bonus."
   ]
  },
  {
   "cell_type": "code",
   "execution_count": null,
   "id": "e28b612d",
   "metadata": {},
   "outputs": [],
   "source": [
    "\n",
    "# 14. Bonus vs Salary Relationship\n",
    "query = 'SELECT salary, bonus FROM employees'\n",
    "df = pd.read_sql_query(query, conn)\n",
    "corr = df['salary'].corr(df['bonus'])\n",
    "print('Correlation between salary and bonus:', corr)\n",
    "plt.figure(figsize=(6,4))\n",
    "plt.scatter(df['salary'], df['bonus'], alpha=0.6)\n",
    "plt.xlabel('Salary')\n",
    "plt.ylabel('Bonus')\n",
    "plt.title('Salary vs Bonus')\n",
    "plt.tight_layout()\n",
    "plt.show()\n"
   ]
  },
  {
   "cell_type": "markdown",
   "id": "4326c63a",
   "metadata": {},
   "source": [
    "### 15. Average Order Quantity by Age Group\n",
    "Define age groups (e.g., <25, 25–45, >45) for customers. Join `orders` with `customers`, compute the average quantity per order for each age group, and plot a bar chart."
   ]
  },
  {
   "cell_type": "code",
   "execution_count": null,
   "id": "3bf5632b",
   "metadata": {},
   "outputs": [],
   "source": [
    "\n",
    "# 15. Average Order Quantity by Age Group\n",
    "query = \"SELECT CASE WHEN c.age < 25 THEN '<25' WHEN c.age BETWEEN 25 AND 45 THEN '25-45' ELSE '>45' END AS age_group, AVG(o.quantity) AS avg_quantity FROM orders o JOIN customers c ON c.id = o.customer_id GROUP BY age_group\"\n",
    "df = pd.read_sql_query(query, conn)\n",
    "plt.figure(figsize=(6,4))\n",
    "plt.bar(df['age_group'], df['avg_quantity'], color='plum')\n",
    "plt.xlabel('Age Group')\n",
    "plt.ylabel('Average Quantity per Order')\n",
    "plt.title('Average Order Quantity by Age Group')\n",
    "plt.tight_layout()\n",
    "plt.show()\n"
   ]
  },
  {
   "cell_type": "markdown",
   "id": "9bfcbd0e",
   "metadata": {},
   "source": [
    "### 16. Age vs Total Spending\n",
    "Calculate total spending for each customer (sum of `total_price` from `orders`) and join with the customer's age from `customers`. Plot a scatter chart of age vs total spending and compute the correlation."
   ]
  },
  {
   "cell_type": "code",
   "execution_count": null,
   "id": "3b4fb2a5",
   "metadata": {},
   "outputs": [],
   "source": [
    "\n",
    "# 16. Age vs Total Spending\n",
    "query = 'SELECT c.id AS customer_id, c.age, SUM(o.total_price) AS total_spent FROM customers c JOIN orders o ON o.customer_id = c.id GROUP BY c.id, c.age'\n",
    "df = pd.read_sql_query(query, conn)\n",
    "corr = df['age'].corr(df['total_spent'])\n",
    "print('Correlation between age and total spending:', corr)\n",
    "plt.figure(figsize=(6,4))\n",
    "plt.scatter(df['age'], df['total_spent'], alpha=0.6)\n",
    "plt.xlabel('Age')\n",
    "plt.ylabel('Total Spending')\n",
    "plt.title('Age vs Total Spending')\n",
    "plt.tight_layout()\n",
    "plt.show()\n"
   ]
  },
  {
   "cell_type": "markdown",
   "id": "622b2cc7",
   "metadata": {},
   "source": [
    "### 17. Sales by City\n",
    "Join `orders` with `customers` to compute total sales per city. Plot a bar chart of total sales by city."
   ]
  },
  {
   "cell_type": "code",
   "execution_count": null,
   "id": "c739d532",
   "metadata": {},
   "outputs": [],
   "source": [
    "\n",
    "# 17. Sales by City\n",
    "query = 'SELECT c.city, SUM(o.total_price) AS total_sales FROM orders o JOIN customers c ON c.id = o.customer_id GROUP BY c.city'\n",
    "df = pd.read_sql_query(query, conn)\n",
    "plt.figure(figsize=(8,4))\n",
    "plt.bar(df['city'], df['total_sales'], color='darkcyan')\n",
    "plt.xlabel('City')\n",
    "plt.ylabel('Total Sales')\n",
    "plt.title('Sales by City')\n",
    "plt.xticks(rotation=45)\n",
    "plt.tight_layout()\n",
    "plt.show()\n"
   ]
  },
  {
   "cell_type": "markdown",
   "id": "1b425a7a",
   "metadata": {},
   "source": [
    "### 18. Product Popularity (Quantity Sold)\n",
    "Aggregate total quantity sold per product from the `orders` table. Identify the top 10 products by quantity sold and plot a bar chart."
   ]
  },
  {
   "cell_type": "code",
   "execution_count": null,
   "id": "312e0d8a",
   "metadata": {},
   "outputs": [],
   "source": [
    "\n",
    "# 18. Product Popularity (Quantity Sold)\n",
    "query = 'SELECT p.name AS product_name, SUM(o.quantity) AS total_quantity FROM orders o JOIN products p ON p.id = o.product_id GROUP BY p.id, p.name ORDER BY total_quantity DESC LIMIT 10'\n",
    "df = pd.read_sql_query(query, conn)\n",
    "plt.figure(figsize=(8,4))\n",
    "plt.barh(df['product_name'], df['total_quantity'], color='olive')\n",
    "plt.xlabel('Total Quantity Sold')\n",
    "plt.ylabel('Product')\n",
    "plt.title('Top 10 Products by Quantity Sold')\n",
    "plt.gca().invert_yaxis()\n",
    "plt.tight_layout()\n",
    "plt.show()\n"
   ]
  },
  {
   "cell_type": "markdown",
   "id": "5e378537",
   "metadata": {},
   "source": [
    "### 19. Average Quantity per Order by Category\n",
    "Join `orders` with `products` and `categories`. Compute the average quantity per order for each category and plot the results."
   ]
  },
  {
   "cell_type": "code",
   "execution_count": null,
   "id": "fc219a8c",
   "metadata": {},
   "outputs": [],
   "source": [
    "\n",
    "# 19. Average Quantity per Order by Category\n",
    "query = 'SELECT cat.name AS category, AVG(o.quantity) AS avg_quantity FROM orders o JOIN products p ON p.id = o.product_id JOIN categories cat ON cat.id = p.category_id GROUP BY cat.id, cat.name'\n",
    "df = pd.read_sql_query(query, conn)\n",
    "plt.figure(figsize=(8,4))\n",
    "plt.bar(df['category'], df['avg_quantity'], color='chocolate')\n",
    "plt.xlabel('Category')\n",
    "plt.ylabel('Average Quantity per Order')\n",
    "plt.title('Average Quantity per Order by Category')\n",
    "plt.xticks(rotation=45)\n",
    "plt.tight_layout()\n",
    "plt.show()\n"
   ]
  },
  {
   "cell_type": "markdown",
   "id": "3157ad31",
   "metadata": {},
   "source": [
    "### 20. Customer Signup Trend\n",
    "Using the `signup_date` in the `customers` table, count the number of customers who signed up each month. Plot a line chart showing customer sign-ups over time."
   ]
  },
  {
   "cell_type": "code",
   "execution_count": null,
   "id": "35c7aadd",
   "metadata": {},
   "outputs": [],
   "source": [
    "\n",
    "# 20. Customer Signup Trend\n",
    "query = \"SELECT strftime('%Y-%m', signup_date) AS month, COUNT(*) AS signup_count FROM customers GROUP BY month ORDER BY month\"\n",
    "df = pd.read_sql_query(query, conn)\n",
    "plt.figure(figsize=(8,4))\n",
    "plt.plot(df['month'], df['signup_count'], marker='o')\n",
    "plt.xlabel('Month')\n",
    "plt.ylabel('Number of Signups')\n",
    "plt.title('Customer Signup Trend')\n",
    "plt.xticks(rotation=45)\n",
    "plt.tight_layout()\n",
    "plt.show()\n"
   ]
  },
  {
   "cell_type": "markdown",
   "id": "e73fdcb4",
   "metadata": {},
   "source": [
    "### 21. Employee Count by Department\n",
    "Join `employees` with `departments` to count the number of employees in each department. Plot a bar chart to visualize the department sizes."
   ]
  },
  {
   "cell_type": "code",
   "execution_count": null,
   "id": "e0b240dc",
   "metadata": {},
   "outputs": [],
   "source": [
    "\n",
    "# 21. Employee Count by Department\n",
    "query = 'SELECT dept.name AS department, COUNT(e.id) AS employee_count FROM departments dept LEFT JOIN employees e ON e.department_id = dept.id GROUP BY dept.id, dept.name'\n",
    "df = pd.read_sql_query(query, conn)\n",
    "plt.figure(figsize=(8,4))\n",
    "plt.bar(df['department'], df['employee_count'], color='teal')\n",
    "plt.xlabel('Department')\n",
    "plt.ylabel('Number of Employees')\n",
    "plt.title('Employee Count by Department')\n",
    "plt.xticks(rotation=45)\n",
    "plt.tight_layout()\n",
    "plt.show()\n"
   ]
  },
  {
   "cell_type": "markdown",
   "id": "c7e60ce0",
   "metadata": {},
   "source": [
    "### 22. Average Sales per Department\n",
    "Join `orders`, `products`, and `departments` to compute the total and average sales for each department. Plot a bar chart showing average sales per department."
   ]
  },
  {
   "cell_type": "code",
   "execution_count": null,
   "id": "c97c159f",
   "metadata": {},
   "outputs": [],
   "source": [
    "\n",
    "# 22. Average Sales per Department\n",
    "query = 'SELECT dept.name AS department, SUM(o.total_price) AS total_sales, AVG(o.total_price) AS avg_order_value FROM orders o JOIN products p ON p.id = o.product_id JOIN departments dept ON dept.id = p.department_id GROUP BY dept.id, dept.name'\n",
    "df = pd.read_sql_query(query, conn)\n",
    "plt.figure(figsize=(8,4))\n",
    "plt.bar(df['department'], df['avg_order_value'], color='navy')\n",
    "plt.xlabel('Department')\n",
    "plt.ylabel('Average Order Value')\n",
    "plt.title('Average Sales per Department')\n",
    "plt.xticks(rotation=45)\n",
    "plt.tight_layout()\n",
    "plt.show()\n"
   ]
  },
  {
   "cell_type": "markdown",
   "id": "c57398a1",
   "metadata": {},
   "source": [
    "### 23. Product Price vs Sales by Department\n",
    "For each department, compute the average product price and total sales. Plot a scatter chart (with Plotly) where the x-axis is average price and y-axis is total sales per department. Use point size or color to indicate department."
   ]
  },
  {
   "cell_type": "code",
   "execution_count": null,
   "id": "eaee8302",
   "metadata": {},
   "outputs": [],
   "source": [
    "\n",
    "# 23. Product Price vs Sales by Department\n",
    "query = 'SELECT dept.name AS department, AVG(p.price) AS avg_price, SUM(o.total_price) AS total_sales FROM orders o JOIN products p ON p.id = o.product_id JOIN departments dept ON dept.id = p.department_id GROUP BY dept.id, dept.name'\n",
    "df = pd.read_sql_query(query, conn)\n",
    "fig = px.scatter(df, x='avg_price', y='total_sales', color='department', size='total_sales', hover_name='department', title='Average Product Price vs Total Sales by Department')\n",
    "fig.update_traces(marker=dict(opacity=0.7))\n",
    "fig.show()\n"
   ]
  },
  {
   "cell_type": "markdown",
   "id": "c0871264",
   "metadata": {},
   "source": [
    "### 24. Number of Customers by City\n",
    "Count the number of customers in each city from the `customers` table and visualize it with a bar chart."
   ]
  },
  {
   "cell_type": "code",
   "execution_count": null,
   "id": "0988b036",
   "metadata": {},
   "outputs": [],
   "source": [
    "\n",
    "# 24. Number of Customers by City\n",
    "query = 'SELECT city, COUNT(*) AS customer_count FROM customers GROUP BY city'\n",
    "df = pd.read_sql_query(query, conn)\n",
    "plt.figure(figsize=(8,4))\n",
    "plt.bar(df['city'], df['customer_count'], color='darkorchid')\n",
    "plt.xlabel('City')\n",
    "plt.ylabel('Number of Customers')\n",
    "plt.title('Number of Customers by City')\n",
    "plt.xticks(rotation=45)\n",
    "plt.tight_layout()\n",
    "plt.show()\n"
   ]
  },
  {
   "cell_type": "markdown",
   "id": "f5e6ad10",
   "metadata": {},
   "source": [
    "### 25. Category Share of Total Sales\n",
    "Compute the proportion of total sales contributed by each category (join `orders`, `products`, `categories`). Create a pie chart (Plotly) showing the percentage contribution of each category."
   ]
  },
  {
   "cell_type": "code",
   "execution_count": null,
   "id": "a81cccdb",
   "metadata": {},
   "outputs": [],
   "source": [
    "\n",
    "# 25. Category Share of Total Sales\n",
    "query = 'SELECT cat.name AS category, SUM(o.total_price) AS total_sales FROM orders o JOIN products p ON p.id = o.product_id JOIN categories cat ON cat.id = p.category_id GROUP BY cat.id, cat.name'\n",
    "df = pd.read_sql_query(query, conn)\n",
    "fig = px.pie(df, values='total_sales', names='category', title='Category Share of Total Sales')\n",
    "fig.show()\n"
   ]
  },
  {
   "cell_type": "markdown",
   "id": "1bc10de5",
   "metadata": {},
   "source": [
    "### 26. Employee Tenure Distribution\n",
    "Calculate employee tenure by subtracting `hire_date` from the current date for each employee. Plot a histogram of tenure (in years) to see how long employees have worked at the company."
   ]
  },
  {
   "cell_type": "code",
   "execution_count": null,
   "id": "813f7711",
   "metadata": {},
   "outputs": [],
   "source": [
    "\n",
    "# 26. Employee Tenure Distribution\n",
    "query = \"SELECT CAST((julianday('now') - julianday(hire_date)) / 365.25 AS INTEGER) AS tenure_years FROM employees\"\n",
    "df = pd.read_sql_query(query, conn)\n",
    "plt.figure(figsize=(6,4))\n",
    "plt.hist(df['tenure_years'], bins=10, color='limegreen', edgecolor='black')\n",
    "plt.xlabel('Tenure (Years)')\n",
    "plt.ylabel('Number of Employees')\n",
    "plt.title('Distribution of Employee Tenure')\n",
    "plt.tight_layout()\n",
    "plt.show()\n"
   ]
  },
  {
   "cell_type": "markdown",
   "id": "2f50c5f6",
   "metadata": {},
   "source": [
    "### 27. Average Order Value Over Time\n",
    "Calculate the average order value (`total_price`) for each month and plot a line chart showing how average order values have evolved over time."
   ]
  },
  {
   "cell_type": "code",
   "execution_count": null,
   "id": "0fd72334",
   "metadata": {},
   "outputs": [],
   "source": [
    "\n",
    "# 27. Average Order Value Over Time\n",
    "query = \"SELECT strftime('%Y-%m', order_date) AS month, AVG(total_price) AS avg_order_value FROM orders GROUP BY month ORDER BY month\"\n",
    "df = pd.read_sql_query(query, conn)\n",
    "plt.figure(figsize=(8,4))\n",
    "plt.plot(df['month'], df['avg_order_value'], marker='o')\n",
    "plt.xlabel('Month')\n",
    "plt.ylabel('Average Order Value')\n",
    "plt.title('Average Order Value Over Time')\n",
    "plt.xticks(rotation=45)\n",
    "plt.tight_layout()\n",
    "plt.show()\n"
   ]
  },
  {
   "cell_type": "markdown",
   "id": "4e1d1b92",
   "metadata": {},
   "source": [
    "### 28. Monthly Sales per Department\n",
    "Aggregate total sales by month and department by joining `orders`, `products`, and `departments`. Use Plotly to create a line chart (or area chart) with separate traces for each department showing monthly sales."
   ]
  },
  {
   "cell_type": "code",
   "execution_count": null,
   "id": "17f9fa6a",
   "metadata": {},
   "outputs": [],
   "source": [
    "\n",
    "# 28. Monthly Sales per Department\n",
    "query = 'SELECT dept.name AS department, strftime('%Y-%m', o.order_date) AS month, SUM(o.total_price) AS total_sales FROM orders o JOIN products p ON p.id = o.product_id JOIN departments dept ON dept.id = p.department_id GROUP BY dept.id, dept.name, month ORDER BY month'\n",
    "df = pd.read_sql_query(query, conn)\n",
    "pivot_df = df.pivot(index='month', columns='department', values='total_sales')\n",
    "fig = px.line(pivot_df, x=pivot_df.index, y=pivot_df.columns, title='Monthly Sales per Department')\n",
    "fig.update_layout(xaxis_title='Month', yaxis_title='Total Sales')\n",
    "fig.show()\n"
   ]
  },
  {
   "cell_type": "markdown",
   "id": "79f16aa1",
   "metadata": {},
   "source": [
    "### 29. Top Cities by Revenue\n",
    "Join `orders` with `customers` to compute total revenue by city. Identify the top 5 cities by revenue and display a bar chart showing the revenue for these cities."
   ]
  },
  {
   "cell_type": "code",
   "execution_count": null,
   "id": "e042bf78",
   "metadata": {},
   "outputs": [],
   "source": [
    "\n",
    "# 29. Top Cities by Revenue\n",
    "query = 'SELECT c.city, SUM(o.total_price) AS total_sales FROM orders o JOIN customers c ON c.id = o.customer_id GROUP BY c.city ORDER BY total_sales DESC LIMIT 5'\n",
    "df = pd.read_sql_query(query, conn)\n",
    "plt.figure(figsize=(7,4))\n",
    "plt.bar(df['city'], df['total_sales'], color='indigo')\n",
    "plt.xlabel('City')\n",
    "plt.ylabel('Total Revenue')\n",
    "plt.title('Top Cities by Revenue')\n",
    "plt.xticks(rotation=45)\n",
    "plt.tight_layout()\n",
    "plt.show()\n"
   ]
  },
  {
   "cell_type": "markdown",
   "id": "acdec8fe",
   "metadata": {},
   "source": [
    "### 30. Employee Salary vs Bonus by Department\n",
    "Create a scatter plot of employee salary vs bonus, color-coded by department. Use Plotly to allow interactive exploration. Compute correlation coefficients for each department."
   ]
  },
  {
   "cell_type": "code",
   "execution_count": null,
   "id": "102c40af",
   "metadata": {},
   "outputs": [],
   "source": [
    "\n",
    "# 30. Employee Salary vs Bonus by Department\n",
    "query = 'SELECT e.salary, e.bonus, dept.name AS department FROM employees e JOIN departments dept ON dept.id = e.department_id'\n",
    "df = pd.read_sql_query(query, conn)\n",
    "fig = px.scatter(df, x='salary', y='bonus', color='department', title='Employee Salary vs Bonus by Department', labels={'salary':'Salary','bonus':'Bonus'})\n",
    "fig.show()\n",
    "correlations = df.groupby('department').apply(lambda d: d['salary'].corr(d['bonus']))\n",
    "print('Correlation by department:\n",
    "', correlations)\n"
   ]
  }
 ],
 "metadata": {
  "kernelspec": {
   "display_name": "Python 3 (ipykernel)",
   "language": "python",
   "name": "python3"
  },
  "language_info": {
   "codemirror_mode": {
    "name": "ipython",
    "version": 3
   },
   "file_extension": ".py",
   "mimetype": "text/x-python",
   "name": "python",
   "nbconvert_exporter": "python",
   "pygments_lexer": "ipython3",
   "version": "3.10.9"
  }
 },
 "nbformat": 4,
 "nbformat_minor": 5
}
