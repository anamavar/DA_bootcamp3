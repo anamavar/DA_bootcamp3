{
 "cells": [
  {
   "cell_type": "markdown",
   "id": "db605a91",
   "metadata": {},
   "source": [
    "#  Python Coding Questions \n"
   ]
  },
  {
   "cell_type": "markdown",
   "id": "9c65a545",
   "metadata": {},
   "source": [
    "### 1. Min & Max (manual)\n",
    "**Task:** Find min and max in a list **without** using `min`/`max`."
   ]
  },
  {
   "cell_type": "code",
   "execution_count": 27,
   "id": "c2541465",
   "metadata": {},
   "outputs": [],
   "source": [
    "nums = [5, 2, 9, -1, 0]"
   ]
  },
  {
   "cell_type": "markdown",
   "id": "b85bb6d6",
   "metadata": {},
   "source": [
    "### 2. Median & Mode (Tie→Smallest)\n",
    "**Task:** Given a list, compute median and mode. If multiple modes, choose the smallest value."
   ]
  },
  {
   "cell_type": "code",
   "execution_count": 28,
   "id": "5b33ed94",
   "metadata": {},
   "outputs": [],
   "source": [
    "nums = [1,2,2,3,3,3,4,4,4,4,5]"
   ]
  },
  {
   "cell_type": "markdown",
   "id": "b03e8a64",
   "metadata": {},
   "source": [
    "### 3. Smart Title Case\n",
    "**Task:** Title-case a sentence but keep small words (a, an, and, the, in, on, at, or, of) lowercase **unless** they are first/last."
   ]
  },
  {
   "cell_type": "code",
   "execution_count": 29,
   "id": "715ac57d",
   "metadata": {},
   "outputs": [],
   "source": [
    "# Example:\n",
    "# input: the quick brown fox jumps over a lazy dog in the park\n",
    "# output: The Quick Brown Fox Jumps Over a Lazy Dog in the Park\n",
    "small = {'a','an','and','the','in','on','at','or','of'}\n",
    "s = 'the quick brown fox jumps over a lazy dog in the park'"
   ]
  },
  {
   "cell_type": "markdown",
   "id": "3ce4027e",
   "metadata": {},
   "source": [
    "### 4. FizzBuzz 1..30\n",
    "**Task:** Print numbers 1..30, but \"Fizz\" for multiples of 3, \"Buzz\" for 5, and \"FizzBuzz\" for both."
   ]
  },
  {
   "cell_type": "code",
   "execution_count": null,
   "id": "0959e3c5",
   "metadata": {},
   "outputs": [],
   "source": []
  },
  {
   "cell_type": "markdown",
   "id": "d2caee17",
   "metadata": {},
   "source": [
    "### 5. Top-3 Word Frequencies\n",
    "**Task:** Given a sentence, print the top-3 most frequent words (case-insensitive). Ties may appear in any order."
   ]
  },
  {
   "cell_type": "code",
   "execution_count": 30,
   "id": "74ee622a",
   "metadata": {},
   "outputs": [],
   "source": [
    "text = 'We love Python, and we love coding in Python because we love to learn.'"
   ]
  },
  {
   "cell_type": "markdown",
   "id": "bdffbd9f",
   "metadata": {},
   "source": [
    "### 6. Longest Run of Same Char\n",
    "**Task:** Given a string, find the character with the longest consecutive run and its length."
   ]
  },
  {
   "cell_type": "code",
   "execution_count": 31,
   "id": "9dc65fd0",
   "metadata": {},
   "outputs": [],
   "source": [
    "s = 'aaabbccccccddeeeeee'"
   ]
  },
  {
   "cell_type": "markdown",
   "id": "fed6f7fb",
   "metadata": {},
   "source": [
    "### 7. Prime Check\n",
    "**Task:** Determine if a number is prime (n ≥ 2)."
   ]
  },
  {
   "cell_type": "markdown",
   "id": "4bc11fd9",
   "metadata": {},
   "source": [
    "### 8. Longest Word\n",
    "**Task:** Find the longest word in a sentence (ties: first)."
   ]
  },
  {
   "cell_type": "code",
   "execution_count": 32,
   "id": "5f51111e",
   "metadata": {},
   "outputs": [],
   "source": [
    "sent = 'we love python programming a lot'"
   ]
  },
  {
   "cell_type": "markdown",
   "id": "5283fe4e",
   "metadata": {},
   "source": [
    "### 9. Sum Integers in Mixed String\n",
    "**Task:** Extract all integers (possibly multi-digit) from a string and sum them."
   ]
  },
  {
   "cell_type": "code",
   "execution_count": 33,
   "id": "e05a9ac5",
   "metadata": {},
   "outputs": [],
   "source": [
    "s = 'abc12x3y045z'  # 12 + 3 + 45 = 60"
   ]
  },
  {
   "cell_type": "markdown",
   "id": "621f35da",
   "metadata": {},
   "source": [
    "### 10. Remove Duplicates (Keep Last)\n",
    "**Task:** From a list, remove duplicates but **keep the last occurrence** of each value."
   ]
  },
  {
   "cell_type": "code",
   "execution_count": 34,
   "id": "244eb24d",
   "metadata": {},
   "outputs": [],
   "source": [
    "nums = [5,6,1,4,2,5,1,4,6,2,1,3]"
   ]
  },
  {
   "cell_type": "markdown",
   "id": "b1c37376",
   "metadata": {},
   "source": [
    "### 11. Balanced Parens (Counter)\n",
    "**Task:** Check if a string with only '(' and ')' is balanced using a counter (no stack)."
   ]
  },
  {
   "cell_type": "code",
   "execution_count": 35,
   "id": "c9d03819",
   "metadata": {},
   "outputs": [],
   "source": [
    "s = '(()())()()'"
   ]
  },
  {
   "cell_type": "markdown",
   "id": "e81910b0",
   "metadata": {},
   "source": [
    "### 12. First 15 Primes\n",
    "**Task:** Generate the first 15 prime numbers (simple trial division)."
   ]
  },
  {
   "cell_type": "code",
   "execution_count": null,
   "id": "6279dcf3",
   "metadata": {},
   "outputs": [],
   "source": []
  },
  {
   "cell_type": "markdown",
   "id": "d957cf7f",
   "metadata": {},
   "source": [
    "### 13. Row/Col Sums & Max Index\n",
    "**Task:** For a 2D list, compute row sums, column sums, and report index of max row sum and max column sum."
   ]
  },
  {
   "cell_type": "code",
   "execution_count": 36,
   "id": "b61a48c1",
   "metadata": {},
   "outputs": [],
   "source": [
    "mat = [[3,2,1],\n",
    "       [4,5,6],\n",
    "       [7,8,9]]"
   ]
  },
  {
   "cell_type": "markdown",
   "id": "3c607268",
   "metadata": {},
   "source": [
    "### 14. Squares List\n",
    "**Task:** Build a list of squares from 1..10 using a loop."
   ]
  },
  {
   "cell_type": "code",
   "execution_count": 37,
   "id": "20cdb18c",
   "metadata": {},
   "outputs": [],
   "source": [
    "# 1^2 = 1, 2^2 = 4, ..."
   ]
  },
  {
   "cell_type": "markdown",
   "id": "f37086be",
   "metadata": {},
   "source": [
    "### 15. Palindrome (word)\n",
    "**Task:** Check if a word is a palindrome (case-insensitive)."
   ]
  },
  {
   "cell_type": "code",
   "execution_count": 38,
   "id": "8cbd424a",
   "metadata": {},
   "outputs": [],
   "source": [
    "w = 'Level'"
   ]
  },
  {
   "cell_type": "markdown",
   "id": "c417ab2c",
   "metadata": {},
   "source": [
    "### 16. Sum of Digits\n",
    "**Task:** Given an integer, compute the sum of its digits."
   ]
  },
  {
   "cell_type": "code",
   "execution_count": 39,
   "id": "ee76c937",
   "metadata": {},
   "outputs": [],
   "source": [
    "n = 12345 # 1+2+3+4+5"
   ]
  },
  {
   "cell_type": "markdown",
   "id": "02429991",
   "metadata": {},
   "source": [
    "### 17. Factorial (loop)\n",
    "**Task:** Compute factorial of n using a loop."
   ]
  },
  {
   "cell_type": "code",
   "execution_count": null,
   "id": "8d40e9c9",
   "metadata": {},
   "outputs": [],
   "source": []
  },
  {
   "cell_type": "markdown",
   "id": "4acb5e1a",
   "metadata": {},
   "source": [
    "### 18. Fibonacci (first 10)\n",
    "**Task:** Print first 10 Fibonacci numbers.\n",
    "F(n)=F(n−1)+F(n−2),for n≥2 with: F(0)=0, F(1)=1\n",
    "0,1,1,2,3,5,8,13,21,34,55,…"
   ]
  },
  {
   "cell_type": "markdown",
   "id": "fda46d40",
   "metadata": {},
   "source": [
    "### 19. Linear Search\n",
    "**Task:** Find the index of a target in a list (or -1)."
   ]
  },
  {
   "cell_type": "code",
   "execution_count": 40,
   "id": "8e465730",
   "metadata": {},
   "outputs": [],
   "source": [
    "arr, target = [4,2,7,1,9], 7 # find the index of 7 in the given list"
   ]
  },
  {
   "cell_type": "markdown",
   "id": "90053589",
   "metadata": {},
   "source": [
    "### 20. Unique (Preserve Order)\n",
    "**Task:** Remove duplicates from a list while preserving order."
   ]
  },
  {
   "cell_type": "code",
   "execution_count": 41,
   "id": "9daa0e58",
   "metadata": {},
   "outputs": [],
   "source": [
    "nums = [6,8,1,5,2,7,2,4,5,1,9,6,5,2,1,4]"
   ]
  },
  {
   "cell_type": "markdown",
   "id": "aef9decc",
   "metadata": {},
   "source": [
    "### 21. Join Strings\n",
    "**Task:** Join a list of words into a single string with spaces."
   ]
  },
  {
   "cell_type": "code",
   "execution_count": 42,
   "id": "9df7d907",
   "metadata": {},
   "outputs": [],
   "source": [
    "words = ['join','these','words']"
   ]
  },
  {
   "cell_type": "markdown",
   "id": "5dd8e14e",
   "metadata": {},
   "source": [
    "### 22. Count Char Frequency\n",
    "**Task:** Count occurrences of each letter (a-z) in a string."
   ]
  },
  {
   "cell_type": "code",
   "execution_count": 43,
   "id": "0214a57f",
   "metadata": {},
   "outputs": [],
   "source": [
    "text = 'Programming in Python!'"
   ]
  },
  {
   "cell_type": "markdown",
   "id": "1487288c",
   "metadata": {},
   "source": [
    "### 23. Replace Spaces\n",
    "**Task:** Replace spaces with hyphens in a string."
   ]
  },
  {
   "cell_type": "code",
   "execution_count": 44,
   "id": "8aee2694",
   "metadata": {},
   "outputs": [],
   "source": [
    "s = 'make it readable' # replace spaces with -"
   ]
  },
  {
   "cell_type": "markdown",
   "id": "d6bc3d21",
   "metadata": {},
   "source": [
    "### 24. Multiples of 3 or 5 (<N)\n",
    "**Task:** Sum of multiples of 3 or 5 below N."
   ]
  },
  {
   "cell_type": "markdown",
   "id": "076871d2",
   "metadata": {},
   "source": [
    "### 25. Average of List\n",
    "**Task:** Compute the average of a list of numbers."
   ]
  },
  {
   "cell_type": "code",
   "execution_count": 45,
   "id": "3062a175",
   "metadata": {},
   "outputs": [],
   "source": [
    "nums = [10,20,30,40]"
   ]
  },
  {
   "cell_type": "markdown",
   "id": "a90c973e",
   "metadata": {},
   "source": [
    "###  26. Second Largest \n",
    "**Task:** Find the second largest distinct number in a list."
   ]
  },
  {
   "cell_type": "code",
   "execution_count": 46,
   "id": "5be5029f",
   "metadata": {},
   "outputs": [],
   "source": [
    "nums = [10, 20, 4, 45, 99, 99]"
   ]
  },
  {
   "cell_type": "markdown",
   "id": "95d0f058",
   "metadata": {},
   "source": [
    "### 27. Count Upper/Lower/Digits\n",
    "**Task:** Count uppercase, lowercase, and digits in a string."
   ]
  },
  {
   "cell_type": "code",
   "execution_count": 47,
   "id": "28bb3cdc",
   "metadata": {},
   "outputs": [],
   "source": [
    "s = 'AbC123xYz'"
   ]
  },
  {
   "cell_type": "markdown",
   "id": "84cc1df2",
   "metadata": {},
   "source": [
    "### 28. Prefix Sum\n",
    "**Task:** Compute running totals of a list."
   ]
  },
  {
   "cell_type": "code",
   "execution_count": 48,
   "id": "b6b14530",
   "metadata": {},
   "outputs": [],
   "source": [
    "nums = [1,2,3,4] # output= [1, 3, 6, 10] "
   ]
  },
  {
   "cell_type": "markdown",
   "id": "748cd92c",
   "metadata": {},
   "source": [
    "### Easy 29. Anagram Check\n",
    "**Task:** Check if two words are anagrams (case-insensitive).\n",
    "\n",
    "An anagram is a word or phrase formed by rearranging the letters of another word or phrase, using all the original letters exactly once."
   ]
  },
  {
   "cell_type": "code",
   "execution_count": 49,
   "id": "aa922284",
   "metadata": {},
   "outputs": [],
   "source": [
    "a, b = 'Listen', 'Silent'"
   ]
  },
  {
   "cell_type": "markdown",
   "id": "d3be7d3e",
   "metadata": {},
   "source": [
    "### 30. Two-Sum Indices\n",
    "**Task:** Find two indices i<j such that nums[i]+nums[j]==target (assume exists)."
   ]
  },
  {
   "cell_type": "code",
   "execution_count": 50,
   "id": "d3fcb051",
   "metadata": {},
   "outputs": [],
   "source": [
    "nums, target = [2,7,11,15], 9 # find to numbers (output is their indices) that their sum is equal to 9 in this case"
   ]
  },
  {
   "cell_type": "markdown",
   "id": "79b7b7f2",
   "metadata": {},
   "source": [
    "### 31. Balanced Parentheses\n",
    "**Task:** Check if a string of (),[],{} is balanced."
   ]
  },
  {
   "cell_type": "code",
   "execution_count": 51,
   "id": "53468797",
   "metadata": {},
   "outputs": [],
   "source": [
    "# Examples:\n",
    "#(), ({}), ()[]{}, ([{}]) are valid\n",
    "# ), (, (){, ([), []], [(]) are invalid\n",
    "s = '{[()()]}'"
   ]
  },
  {
   "cell_type": "markdown",
   "id": "887d161c",
   "metadata": {},
   "source": [
    "### 32. Merge Two Sorted Lists\n",
    "**Task:** Merge two **sorted** lists into one sorted list (linear time)."
   ]
  },
  {
   "cell_type": "code",
   "execution_count": 52,
   "id": "925478c4",
   "metadata": {},
   "outputs": [],
   "source": [
    "A, B = [1,3,5,7], [2,4,6]"
   ]
  },
  {
   "cell_type": "markdown",
   "id": "5132ee8b",
   "metadata": {},
   "source": [
    "### 33. Run-Length Encoding\n",
    "**Task:** Compress a string with counts (e.g., aaabb→a3b2)."
   ]
  },
  {
   "cell_type": "code",
   "execution_count": 53,
   "id": "aed06a0d",
   "metadata": {},
   "outputs": [],
   "source": [
    "s = 'aaabccdddd'"
   ]
  },
  {
   "attachments": {
    "image.png": {
     "image/png": "[encoded data removed]"
    }
   },
   "cell_type": "markdown",
   "id": "6b04cbac",
   "metadata": {},
   "source": [
    "### 34. Pascal Triangle Rows\n",
    "**Task:** Generate first k rows of Pascal's triangle. Pascal’s Triangle is a triangular array of numbers in which each number is the sum of the two numbers directly above it. It starts with a 1 at the top (called the apex), and continues infinitely downward.\n",
    "#### Example\n",
    "![image.png](attachment:image.png)"
   ]
  },
  {
   "cell_type": "code",
   "execution_count": null,
   "id": "7e9b0ca1",
   "metadata": {},
   "outputs": [],
   "source": []
  }
 ],
 "metadata": {
  "kernelspec": {
   "display_name": "Python 3 (ipykernel)",
   "language": "python",
   "name": "python3"
  },
  "language_info": {
   "codemirror_mode": {
    "name": "ipython",
    "version": 3
   },
   "file_extension": ".py",
   "mimetype": "text/x-python",
   "name": "python",
   "nbconvert_exporter": "python",
   "pygments_lexer": "ipython3",
   "version": "3.10.9"
  }
 },
 "nbformat": 4,
 "nbformat_minor": 5
}
